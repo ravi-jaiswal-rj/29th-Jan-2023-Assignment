{
 "cells": [
  {
   "cell_type": "markdown",
   "id": "6dfe2ed6-8c37-4a11-a844-ef737df97d7d",
   "metadata": {},
   "source": [
    "Assignment(29th Jan'23)"
   ]
  },
  {
   "cell_type": "markdown",
   "id": "3f96d996-0079-4920-855c-0c0271a0401f",
   "metadata": {},
   "source": [
    "Questions and Answers."
   ]
  },
  {
   "cell_type": "markdown",
   "id": "57614be2-e157-4b96-bebb-daca23d9e344",
   "metadata": {},
   "source": [
    "Q1.Who developed Python Programming Language?\n"
   ]
  },
  {
   "cell_type": "markdown",
   "id": "d4d22772-b7a7-46cd-8e2e-8e00bbfc6c68",
   "metadata": {},
   "source": [
    "Ans- Guido van Rossum."
   ]
  },
  {
   "cell_type": "markdown",
   "id": "3b24433f-c05c-4fd3-bbfa-f6be99f31aac",
   "metadata": {},
   "source": [
    "Q2.Which type of Programming does Python support?"
   ]
  },
  {
   "cell_type": "markdown",
   "id": "3b1eb850-fffc-4c8b-8b1a-82c130a98ee9",
   "metadata": {},
   "source": [
    " Ans- Python supports multiple programming paradigms, including:-"
   ]
  },
  {
   "cell_type": "markdown",
   "id": "7b0fde84-ae49-4d6c-8b6a-38e2136a333a",
   "metadata": {},
   "source": [
    " 1.Object-Oriented Programming (OOP)"
   ]
  },
  {
   "cell_type": "markdown",
   "id": "4359d19b-843d-4c89-89b5-81bc55033613",
   "metadata": {},
   "source": [
    "2.Functional Programming\n"
   ]
  },
  {
   "cell_type": "markdown",
   "id": "c51265de-a0a7-4c77-95e7-613854b462fe",
   "metadata": {},
   "source": [
    "3.Procedural Programming"
   ]
  },
  {
   "cell_type": "markdown",
   "id": "ed87b223-466e-447f-a463-8d69250f50ec",
   "metadata": {},
   "source": [
    "4.Procedural Programming"
   ]
  },
  {
   "cell_type": "markdown",
   "id": "cad9637f-bd13-45e7-946c-e176161b3b74",
   "metadata": {},
   "source": [
    "Q3.Is Python case senstitive when dealing with identifiers?"
   ]
  },
  {
   "cell_type": "markdown",
   "id": "d6d29319-6fc5-4ab4-890f-e6175fbdc55b",
   "metadata": {},
   "source": [
    "Ans- Yes, Python is case sensitive when dealing with identifiers(variable names, function names, class names, etc.). This means that myVariable and myvariable are considered as two different identifiers in Python."
   ]
  },
  {
   "cell_type": "markdown",
   "id": "6cc1ec65-d0d6-4a2a-884f-0409d36384ca",
   "metadata": {},
   "source": [
    "Q4.What is the correct extension of the Python file?"
   ]
  },
  {
   "cell_type": "markdown",
   "id": "00b3d76c-0847-43d7-9885-7fcab88db840",
   "metadata": {},
   "source": [
    "Ans-The correct extension of the Python file is '.py' which is the standard expression."
   ]
  },
  {
   "cell_type": "markdown",
   "id": "5c735e06-4d7c-45f6-8045-a67d901d5ef9",
   "metadata": {},
   "source": [
    "Q5.Is Python code complied or interpreted?"
   ]
  },
  {
   "cell_type": "markdown",
   "id": "6450af2e-0f0f-4f9f-804d-8a7234e4dba9",
   "metadata": {},
   "source": [
    " Ans- Python code is interpreted by Python interpreter."
   ]
  },
  {
   "cell_type": "markdown",
   "id": "2ffb4377-3900-4c48-8555-ad345cc10479",
   "metadata": {},
   "source": [
    "Q6.Name a few blocks of code used to define in Python language?"
   ]
  },
  {
   "cell_type": "markdown",
   "id": "49e80756-1eab-4e1d-a8e4-81d231cc34b9",
   "metadata": {},
   "source": [
    "Ans- In Python, blocks of code are defined using indentation."
   ]
  },
  {
   "cell_type": "markdown",
   "id": "aff270c1-dab3-4a19-a240-c36ea161f6d1",
   "metadata": {},
   "source": [
    "Some examples of blocks of code used to define various structures in Python are:"
   ]
  },
  {
   "cell_type": "markdown",
   "id": "003fb120-cf87-4c3e-ac77-f0981e3cf49f",
   "metadata": {},
   "source": [
    "1.Functions: defined using the def keyword and indented code block"
   ]
  },
  {
   "cell_type": "code",
   "execution_count": null,
   "id": "5f9b5de4-9107-44a5-b90b-64955678de01",
   "metadata": {},
   "outputs": [],
   "source": [
    "def function_name(arguments):\n",
    "    # indented code block for function definition\n",
    "    pass"
   ]
  },
  {
   "cell_type": "markdown",
   "id": "6cf2f5f3-4006-46c0-a958-565e46667406",
   "metadata": {},
   "source": [
    "2.Loops: for and while loops are defined using the for and while keywords, respectively, and indented code block"
   ]
  },
  {
   "cell_type": "code",
   "execution_count": null,
   "id": "3df48061-ab50-4551-9384-b4185187cb07",
   "metadata": {},
   "outputs": [],
   "source": [
    "for i in range(10):\n",
    "    # indented code block for for loop\n",
    "    pass"
   ]
  },
  {
   "cell_type": "markdown",
   "id": "94d41192-92b3-4b77-8899-c3db0c2d40d6",
   "metadata": {},
   "source": [
    "3.Conditionals: if statements are defined using the if keyword and indented code block"
   ]
  },
  {
   "cell_type": "code",
   "execution_count": null,
   "id": "445baef1-8d14-484b-b45e-b275abcd457c",
   "metadata": {},
   "outputs": [],
   "source": [
    "if condition:\n",
    "    # indented code block for if statement\n",
    "    pass"
   ]
  },
  {
   "cell_type": "markdown",
   "id": "1f7295b5-392b-40a4-991c-03ee86d7f39d",
   "metadata": {},
   "source": [
    "4.Classes: defined using the class keyword and indented code block"
   ]
  },
  {
   "cell_type": "code",
   "execution_count": null,
   "id": "9de157c2-5dc2-40f7-abc3-eb4155796662",
   "metadata": {},
   "outputs": [],
   "source": [
    "class ClassName:\n",
    "    indented code block for class definition\n",
    "    pass"
   ]
  },
  {
   "cell_type": "markdown",
   "id": "0a37cdfd-9c79-4502-bb15-19c51c62756a",
   "metadata": {},
   "source": [
    "5.Context Managers: defined using the with statement and indented code block."
   ]
  },
  {
   "cell_type": "code",
   "execution_count": null,
   "id": "bbd8f09d-ca83-4c7c-949a-d5a7227db47a",
   "metadata": {},
   "outputs": [],
   "source": [
    "with open(\"file.txt\") as file:\n",
    "    # indented code block for context manager\n",
    "    pass"
   ]
  },
  {
   "cell_type": "markdown",
   "id": "c143977e-2897-4128-8633-95ca47d996f7",
   "metadata": {},
   "source": [
    "Q7.State a character used to give single-line comments in Python?"
   ]
  },
  {
   "cell_type": "markdown",
   "id": "47e736fb-7870-42ad-9cad-ba8d6c8546fd",
   "metadata": {},
   "source": [
    "Ans- We can write a single-line comment by adding # character."
   ]
  },
  {
   "cell_type": "markdown",
   "id": "e7bfe58a-881f-4ad9-93f4-0c887f62a728",
   "metadata": {},
   "source": [
    "Q8.Mention functions which can help us to find the version of python that we are currently working on?"
   ]
  },
  {
   "cell_type": "markdown",
   "id": "e810a595-5954-4a61-a862-49819ea7db1b",
   "metadata": {},
   "source": [
    "Ans- The functions which can help us to find the version of python that we are currently working on are:-"
   ]
  },
  {
   "cell_type": "markdown",
   "id": "6807c39d-6bae-4509-8913-598b7e8a5498",
   "metadata": {},
   "source": [
    "1.sys.version method"
   ]
  },
  {
   "cell_type": "markdown",
   "id": "8eca6c86-56fd-492a-b833-783fb3d12498",
   "metadata": {},
   "source": [
    "2.Using python_version() function"
   ]
  },
  {
   "cell_type": "markdown",
   "id": "808520e7-147e-4965-b9ee-9bf9bf302028",
   "metadata": {},
   "source": [
    "3.Using Python -V command"
   ]
  },
  {
   "cell_type": "markdown",
   "id": "87a8a145-09d6-487e-be9a-781226ae5a13",
   "metadata": {},
   "source": [
    "Q9.Python supports the creation of anonymous functions at runtime, using a construct called ----------?"
   ]
  },
  {
   "cell_type": "markdown",
   "id": "33467b70-efec-4e8d-8d5b-dd81cc07e0e9",
   "metadata": {},
   "source": [
    "Ans- Python supports the creation of anonymous functions (i.e. functions that are not bound to a name) at runtime, using a construct called lambda. Lambda functions are restricted to a single expression. They can be used wherever normal functions can be used."
   ]
  },
  {
   "cell_type": "markdown",
   "id": "a2eb8d60-943a-481f-b652-c7773b42133a",
   "metadata": {},
   "source": [
    "Q10.What does pip stand for python?"
   ]
  },
  {
   "cell_type": "markdown",
   "id": "737d036d-36d5-4ffe-95af-5af7651976c7",
   "metadata": {},
   "source": [
    "Ans-pip is a package manager for python. Which is also called Preferred Installer Program."
   ]
  },
  {
   "cell_type": "markdown",
   "id": "e5e8a42c-e1ce-48c2-a30a-1462af9d3f12",
   "metadata": {},
   "source": [
    "Q11.Mention a few built-in function in Python?"
   ]
  },
  {
   "cell_type": "markdown",
   "id": "561ce1af-616f-472f-b372-8ce876efcedb",
   "metadata": {},
   "source": [
    "Ans-These functions are defined and pre-coded in python. Some examples of built-in functions are as follows:\n",
    "\n",
    "min(), max(), len(), sum(), type(), range(), dict(), list(), tuple(), set(), print(), etc."
   ]
  },
  {
   "cell_type": "markdown",
   "id": "484fe0a0-9427-40dd-9490-fea66655d719",
   "metadata": {},
   "source": [
    "Q12.What is the maximum possible length of an identifier in Python?"
   ]
  },
  {
   "cell_type": "markdown",
   "id": "e1f946f5-6b69-4cbf-9ff9-e23719b89b73",
   "metadata": {},
   "source": [
    "Ans-In Python, the highest possible length of an identifier is 79 characters."
   ]
  },
  {
   "cell_type": "markdown",
   "id": "126950bf-0ccc-4cd0-8ca1-111b5e6f022b",
   "metadata": {},
   "source": [
    "Q13.What are the benefits of using Python?"
   ]
  },
  {
   "cell_type": "markdown",
   "id": "e662a975-ad43-4d43-bbfb-16f5a10c0875",
   "metadata": {},
   "source": [
    "Ans- Python is a powerful, flexible, and easy-to-use language. In addition, the python community is very active. It is used in many organizations as it supports multiple programming paradigms. It also performs automatic memory management."
   ]
  },
  {
   "cell_type": "markdown",
   "id": "05614dc9-3ce5-49a3-8426-28257ceffdec",
   "metadata": {},
   "source": [
    "Advantages: "
   ]
  },
  {
   "cell_type": "markdown",
   "id": "56bf5cf4-522a-44bc-9c7b-3a6d6e4b64e6",
   "metadata": {},
   "source": [
    "1.Presence of third-party modules "
   ]
  },
  {
   "cell_type": "markdown",
   "id": "16782951-58b3-4f3a-94b5-afc3893065c1",
   "metadata": {},
   "source": [
    "2.Extensive support libraries(NumPy for numerical calculations, Pandas for data analytics, etc.) "
   ]
  },
  {
   "cell_type": "markdown",
   "id": "ca666ac7-6ccb-4979-a758-3adaa7f32fe6",
   "metadata": {},
   "source": [
    "3.Open source and large active community base "
   ]
  },
  {
   "cell_type": "markdown",
   "id": "1da1a972-ae1f-445f-8553-caf5ad1fd153",
   "metadata": {},
   "source": [
    "4.Versatile, Easy to read, learn and write"
   ]
  },
  {
   "cell_type": "markdown",
   "id": "c9f54afe-8abc-4b75-99ed-9234bc58fb13",
   "metadata": {},
   "source": [
    "5.User-friendly data structures "
   ]
  },
  {
   "cell_type": "markdown",
   "id": "fccee99b-a23e-4dd2-8a51-29cf3d74227b",
   "metadata": {},
   "source": [
    "6.Highly Efficient(Python’s clean object-oriented design provides enhanced process control, and the language is equipped with excellent text processing and integration capabilities, as well as its own unit testing framework, which makes it more efficient.)"
   ]
  },
  {
   "cell_type": "markdown",
   "id": "a1fb5311-092c-47a6-a745-55680e51ecde",
   "metadata": {},
   "source": [
    "Q14.How is memory managed in Python?"
   ]
  },
  {
   "cell_type": "markdown",
   "id": "b5d9e98b-6e52-46c4-a9e4-ec76ae73b9e5",
   "metadata": {},
   "source": [
    "Ans-Memory in Python is managed by Python private heap space. All Python objects and data structures are located in a private heap. This private heap is taken care of by Python Interpreter itself, and a programmer doesn't have access to this private heap."
   ]
  },
  {
   "cell_type": "markdown",
   "id": "a717ce9d-dc86-4195-aa5c-b5e2c4cc5d07",
   "metadata": {},
   "source": [
    "Q15.How to install Python on Windows and set path variabls?"
   ]
  },
  {
   "cell_type": "markdown",
   "id": "e926b822-776d-418b-941c-cf60c12d960d",
   "metadata": {},
   "source": [
    "Ans-Installing Python on Windows takes a series of few easy steps:-"
   ]
  },
  {
   "cell_type": "markdown",
   "id": "038c782b-121a-4b11-8a0d-cbec27f0afaa",
   "metadata": {},
   "source": [
    "Step 1 − Select Version of Python to Install\n",
    "Python has various versions available with differences between the syntax and working of different versions of the language. We need to choose the version which we want to use or need. There are different versions of Python 2 and Python 3 available."
   ]
  },
  {
   "cell_type": "markdown",
   "id": "046e1cc7-bc24-41e3-aab7-a88335940122",
   "metadata": {},
   "source": [
    "Step 2 − Download Python Executable Installer\n",
    "On the web browser, in the official site of python (www.python.org), move to the Download for Windows section.\n",
    "\n",
    "All the available versions of Python will be listed. Select the version required by you and click on Download. Let suppose, we chose the Python 3.9.1 version.On clicking download, various available executable installers shall be visible with different operating system specifications. Choose the installer which suits your system operating system and download the instlaller. Let suppose, we select the Windows installer(64 bits)"
   ]
  },
  {
   "cell_type": "markdown",
   "id": "b507b167-df2e-4fe6-8551-3884fe359b7d",
   "metadata": {},
   "source": [
    "Step 3 − Run Executable Installer\n",
    "We downloaded the Python 3.9.1 Windows 64 bit installer.\n",
    "\n",
    "Run the installer. Make sure to select both the checkboxes at the bottom and then click Install Now.On clicking the Install Now, The installation process starts."
   ]
  },
  {
   "cell_type": "markdown",
   "id": "4685aebd-22d5-4204-87e4-1fd6b34857ad",
   "metadata": {},
   "source": [
    "Step 4 − Verify Python is installed on Windows\n",
    "To ensure if Python is succesfully installed on your system. Follow the given steps −\n",
    "\n",
    "Open the command prompt.\n",
    "\n",
    "Type ‘python’ and press enter.\n",
    "\n",
    "The version of the python which you have installed will be displayed if the python is successfully installed on your windows.\n",
    "\n"
   ]
  },
  {
   "cell_type": "markdown",
   "id": "7f3f77ed-7840-4417-b4a3-96aea3486946",
   "metadata": {},
   "source": [
    "Step 5 − Verify Pip was installed\n",
    "Pip is a powerful package management system for Python software packages. Thus, make sure that you have it installed.\n",
    "\n",
    "To verify if pip was installed, follow the given steps −\n",
    "\n",
    "Open the command prompt.\n",
    "\n",
    "Enter pip –V to check if pip was installed.\n",
    "\n",
    "The following output appears if pip is installed successfully."
   ]
  },
  {
   "cell_type": "markdown",
   "id": "ea01ae45-be75-4e82-92da-e0244c282534",
   "metadata": {},
   "source": [
    "The PATH variable is a list of directories where each directory contains the executable file for a command.Now for set path variables,we can go with following step:-"
   ]
  },
  {
   "cell_type": "markdown",
   "id": "7799f6c9-a0e7-4dd4-aeb0-275459f7e1e0",
   "metadata": {},
   "source": [
    "The complete path of python.exe can be added by:\n",
    "\n",
    "1.clicking This PC and going to Properties.\n",
    "\n",
    "2.Clicking on the Advanced system settings in the menu on the left.\n",
    "\n",
    "3.Clicking on the Environment Variables button o​n the bottom right.\n",
    "\n",
    "4.In the System variables section, selecting the Path variable and clicking on Edit. The next screen will show all the directories that are currently a part of the PATH variable.\n",
    "\n",
    "5.Clicking on New and entering Python’s install directory."
   ]
  },
  {
   "cell_type": "markdown",
   "id": "34ad65a7-cbf0-4746-b532-b50c2384d243",
   "metadata": {},
   "source": [
    "Q16.Is indentation required in Python?"
   ]
  },
  {
   "cell_type": "markdown",
   "id": "c418cdc8-4dd8-4ea3-a1ef-e8927b73f4e4",
   "metadata": {},
   "source": [
    "Ans-Yes.Indentation is mandatory in python to define the blocks of statements."
   ]
  },
  {
   "cell_type": "code",
   "execution_count": null,
   "id": "34180f11-a92a-4378-8461-ecac867fbe4d",
   "metadata": {},
   "outputs": [],
   "source": []
  }
 ],
 "metadata": {
  "kernelspec": {
   "display_name": "Python 3 (ipykernel)",
   "language": "python",
   "name": "python3"
  },
  "language_info": {
   "codemirror_mode": {
    "name": "ipython",
    "version": 3
   },
   "file_extension": ".py",
   "mimetype": "text/x-python",
   "name": "python",
   "nbconvert_exporter": "python",
   "pygments_lexer": "ipython3",
   "version": "3.10.8"
  }
 },
 "nbformat": 4,
 "nbformat_minor": 5
}
